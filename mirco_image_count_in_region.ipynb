{
  "nbformat": 4,
  "nbformat_minor": 0,
  "metadata": {
    "colab": {
      "provenance": []
    },
    "kernelspec": {
      "name": "python3",
      "display_name": "Python 3"
    },
    "language_info": {
      "name": "python"
    }
  },
  "cells": [
    {
      "cell_type": "code",
      "execution_count": null,
      "metadata": {
        "id": "HZ7WbpdRTLnl"
      },
      "outputs": [],
      "source": [
        "import cv2\n",
        "import numpy as np"
      ]
    },
    {
      "cell_type": "code",
      "source": [
        "r_start=None\n",
        "r_end=None\n",
        "cropping=False"
      ],
      "metadata": {
        "id": "3_sMweaVTYGm"
      },
      "execution_count": null,
      "outputs": []
    },
    {
      "cell_type": "code",
      "source": [
        "def m_callback(event,x,y,flags,p):\n",
        "    global r_start,r_end,cropping\n",
        "\n",
        "    if event==cv2.EVENT_LBUTTONDOWN:\n",
        "        r_start=(x,y)\n",
        "        r_end=(x,y)\n",
        "        cropping=True\n",
        "\n",
        "    elif event==cv2.EVENT_LBUTTONUP:\n",
        "        r_end=(x,y)\n",
        "        cropping=False\n",
        "        cv2.rectangle(img,r_start,r_end,(0,255,0),2)\n",
        "        #cv2.imshow('select img',img)\n",
        "\n",
        "        s_r=img[r_start[1]:r_end[1],r_start[0]:r_end[0]]\n",
        "        cv2.imshow('selected region',s_r)\n",
        "        gray=cv2.cvtColor(s_r, cv2.COLOR_BGR2GRAY)\n",
        "\n",
        "        _,thresh=cv2.threshold(gray,128,255,cv2.THRESH_BINARY_INV)\n",
        "\n",
        "        contours,_=cv2.findContours(thresh,cv2.RETR_EXTERNAL,cv2.CHAIN_APPROX_SIMPLE)\n",
        "        cv2.drawContours(s_r,contours,-1,(0,255,0),1)\n",
        "        #cv2.imshow('image',img)\n",
        "\n",
        "        count=0\n",
        "        c=0\n",
        "        for i,cnt in enumerate(contours):\n",
        "            rect=cv2.minAreaRect(cnt)\n",
        "            box=cv2.boxPoints(rect)\n",
        "            box=np.int0(box)\n",
        "\n",
        "            l=max(rect[1])\n",
        "            b=min(rect[1])\n",
        "            a=cv2.contourArea(cnt)\n",
        "            p=cv2.arcLength(cnt,True)\n",
        "            if a>=1.0:\n",
        "                c=c+1\n",
        "                print(f\"fig-{c} ::length:{l},breadth:{b},area={a},perimeter={p}\")\n",
        "                count+=1\n",
        "\n",
        "            cv2.drawContours(s_r,[box],0,(0,0.255),1)\n",
        "        print('\\n\\nTOTAL NUMBER OF FIGURES:',count)"
      ],
      "metadata": {
        "id": "8vTrQXKcTbWX"
      },
      "execution_count": null,
      "outputs": []
    },
    {
      "cell_type": "code",
      "source": [
        "img=cv2.imread('irrshape.jpg')"
      ],
      "metadata": {
        "id": "O5C822c2Tox_"
      },
      "execution_count": null,
      "outputs": []
    },
    {
      "cell_type": "code",
      "source": [
        "copy=img.copy()"
      ],
      "metadata": {
        "id": "oyzCU0U2TsKA"
      },
      "execution_count": null,
      "outputs": []
    },
    {
      "cell_type": "code",
      "source": [
        "cv2.namedWindow('select region')\n",
        "cv2.setMouseCallback('select region', m_callback)\n"
      ],
      "metadata": {
        "id": "1yRLsC1jTu2E"
      },
      "execution_count": null,
      "outputs": []
    },
    {
      "cell_type": "code",
      "source": [
        "while True:\n",
        "    cv2.imshow('select region', img)\n",
        "    if cv2.waitKey(1) &0xFF ==ord('q'):\n",
        "        break\n",
        "\n",
        "\n",
        "cv2.destroyAllWindows()\n"
      ],
      "metadata": {
        "id": "4tlbtvPtTxta"
      },
      "execution_count": null,
      "outputs": []
    }
  ]
}