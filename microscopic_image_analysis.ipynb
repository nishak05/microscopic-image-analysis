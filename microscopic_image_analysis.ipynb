{
  "nbformat": 4,
  "nbformat_minor": 0,
  "metadata": {
    "colab": {
      "provenance": []
    },
    "kernelspec": {
      "name": "python3",
      "display_name": "Python 3"
    },
    "language_info": {
      "name": "python"
    }
  },
  "cells": [
    {
      "cell_type": "code",
      "execution_count": null,
      "metadata": {
        "id": "r5v2gtJiSQFN"
      },
      "outputs": [],
      "source": [
        "import cv2\n",
        "import numpy as np"
      ]
    },
    {
      "cell_type": "code",
      "source": [
        "img=cv2.imread('irrshape.jpg')\n"
      ],
      "metadata": {
        "id": "59ZyfSUYSQ-w"
      },
      "execution_count": null,
      "outputs": []
    },
    {
      "cell_type": "code",
      "source": [
        "gray=cv2.cvtColor(img, cv2.COLOR_BGR2GRAY)\n",
        "_,thresh=cv2.threshold(gray,128,255,cv2.THRESH_BINARY_INV)\n"
      ],
      "metadata": {
        "id": "Vjaqvlk9SUfI"
      },
      "execution_count": null,
      "outputs": []
    },
    {
      "cell_type": "code",
      "source": [
        "contours,_=cv2.findContours(thresh,cv2.RETR_EXTERNAL,cv2.CHAIN_APPROX_SIMPLE)\n",
        "cv2.drawContours(img,contours,-1,(0,255,0),1)\n",
        "cv2.imshow('image',img)\n"
      ],
      "metadata": {
        "id": "FcQwZaBbSYh2"
      },
      "execution_count": null,
      "outputs": []
    },
    {
      "cell_type": "code",
      "source": [
        "count=0\n",
        "c=0\n",
        "for i,cnt in enumerate(contours):\n",
        "    rect=cv2.minAreaRect(cnt)\n",
        "    box=cv2.boxPoints(rect)\n",
        "    box=np.int0(box)\n",
        "\n",
        "    l=max(rect[1])\n",
        "    b=min(rect[1])\n",
        "    a=cv2.contourArea(cnt)\n",
        "    p=cv2.arcLength(cnt,True)\n",
        "    if a>=1.0:\n",
        "        c=c+1\n",
        "        print(f\"fig-{c} ::length:{l},breadth:{b},area={a},perimeter={p}\")\n",
        "        count+=1\n",
        "\n",
        "    cv2.drawContours(img,[box],0,(0,0,255),1)\n",
        "print('\\n\\nTOTAL NUMBER OF FIGURES:',count)"
      ],
      "metadata": {
        "id": "XEC5oLvWSbhn"
      },
      "execution_count": null,
      "outputs": []
    },
    {
      "cell_type": "code",
      "source": [
        "cv2.waitKey(0)\n",
        "cv2.destroyAllWindows()"
      ],
      "metadata": {
        "id": "BM1bZ3JySjAy"
      },
      "execution_count": null,
      "outputs": []
    }
  ]
}